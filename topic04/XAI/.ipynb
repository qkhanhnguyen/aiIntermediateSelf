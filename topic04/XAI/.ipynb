{
 "cells": [
  {
   "cell_type": "code",
   "execution_count": 1,
   "metadata": {
    "colab": {
     "base_uri": "https://localhost:8080/"
    },
    "executionInfo": {
     "elapsed": 7,
     "status": "ok",
     "timestamp": 1712562215098,
     "user": {
      "displayName": "Tran Trung Kien FX11763",
      "userId": "00563276038472135211"
     },
     "user_tz": -420
    },
    "id": "LI36O7QDqS0P",
    "outputId": "b08dbfe3-f710-4def-8e49-de81c19f126a"
   },
   "outputs": [
    {
     "name": "stdout",
     "output_type": "stream",
     "text": [
      "accuracy =  0.6\n"
     ]
    }
   ],
   "source": [
    "from __future__ import print_function\n",
    "import numpy as np\n",
    "\n",
    "def acc(y_true, y_pred):\n",
    "    correct = np.sum(y_true == y_pred)\n",
    "    return float(correct)/y_true.shape[0]\n",
    "\n",
    "y_true = np.array([0, 0, 0, 0, 1, 1, 1, 2, 2, 2])\n",
    "y_pred = np.array([0, 1, 0, 2, 1, 1, 0, 2, 1, 2])\n",
    "print('accuracy = ', acc(y_true, y_pred))"
   ]
  },
  {
   "cell_type": "code",
   "execution_count": 2,
   "metadata": {
    "colab": {
     "base_uri": "https://localhost:8080/"
    },
    "executionInfo": {
     "elapsed": 3068,
     "status": "ok",
     "timestamp": 1712562296787,
     "user": {
      "displayName": "Tran Trung Kien FX11763",
      "userId": "00563276038472135211"
     },
     "user_tz": -420
    },
    "id": "Ej2Tvp3Tqru_",
    "outputId": "ce987d54-b58b-4966-eeab-409da96689f5"
   },
   "outputs": [
    {
     "name": "stdout",
     "output_type": "stream",
     "text": [
      "accuracy =  0.6\n"
     ]
    }
   ],
   "source": [
    "from sklearn.metrics import accuracy_score\n",
    "print('accuracy = ',accuracy_score(y_true, y_pred))"
   ]
  },
  {
   "cell_type": "code",
   "execution_count": 3,
   "metadata": {
    "colab": {
     "base_uri": "https://localhost:8080/",
     "height": 466
    },
    "executionInfo": {
     "elapsed": 1220,
     "status": "ok",
     "timestamp": 1712565000244,
     "user": {
      "displayName": "Tran Trung Kien FX11763",
      "userId": "00563276038472135211"
     },
     "user_tz": -420
    },
    "id": "i1TG_BYr0cW1",
    "outputId": "158b4016-d775-4e88-af97-a12994547404"
   },
   "outputs": [
    {
     "data": {
      "image/png": "[encoded data removed]",
      "text/plain": [
       "<Figure size 640x480 with 1 Axes>"
      ]
     },
     "metadata": {},
     "output_type": "display_data"
    },
    {
     "name": "stdout",
     "output_type": "stream",
     "text": [
      "AUC: 1.0\n"
     ]
    }
   ],
   "source": [
    "import numpy as np\n",
    "import matplotlib.pyplot as plt\n",
    "\n",
    "# Điểm xác suất\n",
    "scores = np.array([0.9, 0.8, 0.7, 0.6, 0.5, 0.4, 0.3, 0.2, 0.1, 0.0])\n",
    "\n",
    "# Nhãn email\n",
    "labels = np.array([1, 1, 1, 1, 0, 0, 0, 0, 0, 0])\n",
    "\n",
    "# Số lượng email\n",
    "n_spam = np.sum(labels)\n",
    "n_not_spam = len(labels) - n_spam\n",
    "\n",
    "# FPR và TPR cho các điểm ngưỡng khác nhau\n",
    "fpr, tpr = [], []\n",
    "for threshold in scores:\n",
    "    tp = np.sum(scores[labels == 1] >= threshold)\n",
    "    fp = np.sum(scores[labels == 0] >= threshold)\n",
    "    fpr.append(fp / n_not_spam)\n",
    "    tpr.append(tp / n_spam)\n",
    "\n",
    "# Vẽ đường ROC\n",
    "plt.plot(fpr, tpr, label=\"ROC curve\")\n",
    "plt.xlabel(\"False Positive Rate (FPR)\")\n",
    "plt.ylabel(\"True Positive Rate (TPR)\")\n",
    "plt.legend()\n",
    "plt.show()\n",
    "\n",
    "# Tính AUC\n",
    "auc = np.trapz(tpr, fpr)\n",
    "print(\"AUC:\", auc)"
   ]
  }
 ],
 "metadata": {
  "colab": {
   "authorship_tag": "ABX9TyPg/1JUS/vZvT3nk+ggmLfD",
   "provenance": []
  },
  "kernelspec": {
   "display_name": "tf2x",
   "language": "python",
   "name": "python3"
  },
  "language_info": {
   "codemirror_mode": {
    "name": "ipython",
    "version": 3
   },
   "file_extension": ".py",
   "mimetype": "text/x-python",
   "name": "python",
   "nbconvert_exporter": "python",
   "pygments_lexer": "ipython3",
   "version": "3.11.2"
  }
 },
 "nbformat": 4,
 "nbformat_minor": 0
}
