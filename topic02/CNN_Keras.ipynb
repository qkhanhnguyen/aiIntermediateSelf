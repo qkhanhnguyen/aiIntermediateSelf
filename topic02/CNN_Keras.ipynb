{
  "cells": [
    {
      "cell_type": "markdown",
      "metadata": {
        "id": "b_Byl2KCgMNl"
      },
      "source": [
        "# Handwritten digits classification using TensorFlow"
      ]
    },
    {
      "cell_type": "markdown",
      "metadata": {
        "id": "ZCKj0Bn4gMNt"
      },
      "source": [
        "Putting all the concepts we have learned so far, we will see how can use tensorflow to\n",
        "build a neural network to recognize handwritten digits. If you are playing around deep\n",
        "learning off late then you must have come across MNIST dataset. It is being called the hello\n",
        "world of deep learning.\n",
        "\n",
        "It consists of 55,000 data points of handwritten digits (0 to 9).\n",
        "In this section, we will see how can we use our neural network to recognize the\n",
        "handwritten digits and also we will get hang of tensorflow and tensorboard.\n"
      ]
    },
    {
      "cell_type": "markdown",
      "metadata": {
        "id": "oIjW-6rRgMNu"
      },
      "source": [
        "## Import required libraries\n",
        "\n",
        "As a first step, let us import all the required libraries:"
      ]
    },
    {
      "cell_type": "code",
      "execution_count": 1,
      "metadata": {
        "id": "upbsikQ1gMNw"
      },
      "outputs": [
        {
          "name": "stdout",
          "output_type": "stream",
          "text": [
            "WARNING:tensorflow:From C:\\Users\\nqkhanh\\AppData\\Local\\Temp\\ipykernel_35980\\1066908960.py:7: The name tf.logging.set_verbosity is deprecated. Please use tf.compat.v1.logging.set_verbosity instead.\n",
            "\n",
            "WARNING:tensorflow:From C:\\Users\\nqkhanh\\AppData\\Local\\Temp\\ipykernel_35980\\1066908960.py:7: The name tf.logging.ERROR is deprecated. Please use tf.compat.v1.logging.ERROR instead.\n",
            "\n"
          ]
        }
      ],
      "source": [
        "import warnings\n",
        "warnings.filterwarnings('ignore')\n",
        "\n",
        "\n",
        "import tensorflow as tf\n",
        "from tensorflow.examples.tutorials.mnist import input_data\n",
        "tf.logging.set_verbosity(tf.logging.ERROR)\n",
        "\n",
        "import matplotlib.pyplot as plt\n",
        "%matplotlib inline"
      ]
    },
    {
      "cell_type": "code",
      "execution_count": 2,
      "metadata": {
        "id": "TZ7CXfqXgMNy",
        "outputId": "322d4591-f682-457e-8c41-0cdac4cfb2ac"
      },
      "outputs": [
        {
          "name": "stdout",
          "output_type": "stream",
          "text": [
            "1.14.0\n"
          ]
        }
      ],
      "source": [
        "print (tf.__version__)"
      ]
    },
    {
      "cell_type": "markdown",
      "metadata": {
        "id": "JFJW-Y-4gMNz"
      },
      "source": [
        "## Load the Dataset\n",
        "\n",
        "In the below code, \"data/mnist\" implies the location where we store the MNIST dataset.\n",
        "one_hot=True implies we are one-hot encoding the labels (0 to 9):"
      ]
    },
    {
      "cell_type": "code",
      "execution_count": 3,
      "metadata": {
        "id": "1vr8pQDqgMN0",
        "outputId": "bb6f4df1-4583-49db-a966-61ed399ae249"
      },
      "outputs": [
        {
          "name": "stdout",
          "output_type": "stream",
          "text": [
            "Extracting data/mnist\\train-images-idx3-ubyte.gz\n",
            "Extracting data/mnist\\train-labels-idx1-ubyte.gz\n",
            "Extracting data/mnist\\t10k-images-idx3-ubyte.gz\n",
            "Extracting data/mnist\\t10k-labels-idx1-ubyte.gz\n"
          ]
        }
      ],
      "source": [
        "mnist = input_data.read_data_sets(\"data/mnist\", one_hot=True)"
      ]
    },
    {
      "cell_type": "markdown",
      "metadata": {
        "id": "uyTPNhNugMN1"
      },
      "source": [
        "Let's check what we got in our data:"
      ]
    },
    {
      "cell_type": "code",
      "execution_count": 4,
      "metadata": {
        "id": "oQ7d0fDVgMN2",
        "outputId": "403e02b0-1b4c-4993-d8ce-ba5f39b99795"
      },
      "outputs": [
        {
          "name": "stdout",
          "output_type": "stream",
          "text": [
            "No of images in training set (55000, 784)\n",
            "No of labels in training set (55000, 10)\n",
            "No of images in test set (10000, 784)\n",
            "No of labels in test set (10000, 10)\n"
          ]
        }
      ],
      "source": [
        "print(\"No of images in training set {}\".format(mnist.train.images.shape))\n",
        "print(\"No of labels in training set {}\".format(mnist.train.labels.shape))\n",
        "\n",
        "print(\"No of images in test set {}\".format(mnist.test.images.shape))\n",
        "print(\"No of labels in test set {}\".format(mnist.test.labels.shape))"
      ]
    },
    {
      "cell_type": "markdown",
      "metadata": {
        "id": "KzYV0C64gMN2"
      },
      "source": [
        "We have 55,000 images in the training set and each image is of size 784 and we have 10 labels which are actually 0 to 9. Similarly, we have 10000 images in the test set.\n",
        "\n",
        "Now we plot one image to see how it looks like:"
      ]
    },
    {
      "cell_type": "code",
      "execution_count": 5,
      "metadata": {
        "id": "N8V87y2zgMN3",
        "outputId": "89794a16-6f2c-4a14-c9e2-aa221e4dfe7a"
      },
      "outputs": [
        {
          "data": {
            "text/plain": [
              "<matplotlib.image.AxesImage at 0x1e2676fc908>"
            ]
          },
          "execution_count": 5,
          "metadata": {},
          "output_type": "execute_result"
        },
        {
          "data": {
            "image/png": "[encoded data removed]",
            "text/plain": [
              "<Figure size 640x480 with 1 Axes>"
            ]
          },
          "metadata": {},
          "output_type": "display_data"
        }
      ],
      "source": [
        "img1 = mnist.train.images[0].reshape(28,28)\n",
        "plt.imshow(img1, cmap='Greys')"
      ]
    },
    {
      "cell_type": "markdown",
      "metadata": {
        "id": "UprUThESgMN3"
      },
      "source": [
        "## Define the number of neurons in each layer\n",
        "\n",
        "We build a 4 layer neural network with 3 hidden layers and 1 output layer. As the size of\n",
        "the input image is 784. We set the num_input to 784 and since we have 10 handwritten\n",
        "digits (0 to 9), We set 10 neurons in the output layer. We define the number of neurons in\n",
        "each layer as follows,"
      ]
    },
    {
      "cell_type": "code",
      "execution_count": 6,
      "metadata": {
        "id": "yOVXRgD1gMN4"
      },
      "outputs": [],
      "source": [
        "#number of neurons in input layer\n",
        "num_input = 784\n",
        "\n",
        "#number of neurons in hidden layer 1\n",
        "num_hidden1 = 512\n",
        "\n",
        "#number of neurons in hidden layer 2\n",
        "num_hidden2 = 256\n",
        "\n",
        "#number of neurons in hidden layer 3\n",
        "num_hidden_3 = 128\n",
        "\n",
        "#number of neurons in output layer\n",
        "num_output = 10"
      ]
    },
    {
      "cell_type": "markdown",
      "metadata": {
        "id": "OfPvk5WIgMN5"
      },
      "source": [
        "## Defining placeholders\n",
        "\n",
        "As we learned, we first need to define the placeholders for input and output. Values for\n",
        "the placeholders will be feed at the run time through feed_dict:"
      ]
    },
    {
      "cell_type": "code",
      "execution_count": 7,
      "metadata": {
        "id": "MLB87He1gMN6"
      },
      "outputs": [],
      "source": [
        "with tf.name_scope('input'):\n",
        "    X = tf.placeholder(\"float\", [None, num_input])\n",
        "\n",
        "with tf.name_scope('output'):\n",
        "    Y = tf.placeholder(\"float\", [None, num_output])"
      ]
    },
    {
      "cell_type": "markdown",
      "metadata": {
        "id": "pvSUyYFugMN6"
      },
      "source": [
        "Since we have a 4 layer network, we have 4 weights and 4 baises. We initialize our weights\n",
        "by drawing values from the truncated normal distribution with a standard deviation of\n",
        "0.1.\n",
        "\n",
        "Remember, the dimensions of the weights matrix should be a number of neurons in the\n",
        "previous layer x number of neurons in the current layer. For instance, the dimension of\n",
        "weight matrix w3 should be the number of neurons in the hidden layer 2 x number of\n",
        "neurons in hidden layer 3.\n",
        "\n",
        "We often define all the weights in a dictionary as given below:"
      ]
    },
    {
      "cell_type": "code",
      "execution_count": 8,
      "metadata": {
        "id": "HBLwqaL_gMN6"
      },
      "outputs": [],
      "source": [
        "with tf.name_scope('weights'):\n",
        "\n",
        "        weights = {\n",
        "        'w1': tf.Variable(tf.truncated_normal([num_input, num_hidden1], stddev=0.1),name='weight_1'),\n",
        "        'w2': tf.Variable(tf.truncated_normal([num_hidden1, num_hidden2], stddev=0.1),name='weight_2'),\n",
        "        'w3': tf.Variable(tf.truncated_normal([num_hidden2, num_hidden_3], stddev=0.1),name='weight_3'),\n",
        "        'out': tf.Variable(tf.truncated_normal([num_hidden_3, num_output], stddev=0.1),name='weight_4'),\n",
        "    }\n"
      ]
    },
    {
      "cell_type": "markdown",
      "metadata": {
        "id": "7E4k_VLzgMN7"
      },
      "source": [
        "The dimension of bias should be a number of neurons in the current layer. For instance, the\n",
        "dimension of bias b2 is the number of neurons in the hidden layer 2. We set the bias value\n",
        "as constant 0.1 in all layers:\n",
        "\n"
      ]
    },
    {
      "cell_type": "code",
      "execution_count": 9,
      "metadata": {
        "id": "6a8i9LPogMN7"
      },
      "outputs": [],
      "source": [
        "with tf.name_scope('biases'):\n",
        "\n",
        "    biases = {\n",
        "        'b1': tf.Variable(tf.constant(0.1, shape=[num_hidden1]),name='bias_1'),\n",
        "        'b2': tf.Variable(tf.constant(0.1, shape=[num_hidden2]),name='bias_2'),\n",
        "        'b3': tf.Variable(tf.constant(0.1, shape=[num_hidden_3]),name='bias_3'),\n",
        "        'out': tf.Variable(tf.constant(0.1, shape=[num_output]),name='bias_4')\n",
        "    }"
      ]
    },
    {
      "cell_type": "markdown",
      "metadata": {
        "id": "SVpndEC5gMN7"
      },
      "source": [
        "## Forward Propagation\n",
        "\n",
        "Now, we define the forward propagation operation. We use relu activations in all layers\n",
        "and in the last layer we use sigmoid activation as defined below:"
      ]
    },
    {
      "cell_type": "code",
      "execution_count": 10,
      "metadata": {
        "id": "9VptXnxmgMN8"
      },
      "outputs": [],
      "source": [
        "with tf.name_scope('Model'):\n",
        "\n",
        "    with tf.name_scope('layer1'):\n",
        "        layer_1 = tf.nn.relu(tf.add(tf.matmul(X, weights['w1']), biases['b1']) )\n",
        "\n",
        "    with tf.name_scope('layer2'):\n",
        "        layer_2 = tf.nn.relu(tf.add(tf.matmul(layer_1, weights['w2']), biases['b2']))\n",
        "\n",
        "    with tf.name_scope('layer3'):\n",
        "        layer_3 = tf.nn.relu(tf.add(tf.matmul(layer_2, weights['w3']), biases['b3']))\n",
        "\n",
        "    with tf.name_scope('output_layer'):\n",
        "         y_hat = tf.nn.sigmoid(tf.matmul(layer_3, weights['out']) + biases['out'])"
      ]
    },
    {
      "cell_type": "markdown",
      "metadata": {
        "id": "zou_1AbkgMN8"
      },
      "source": [
        "## Compute Loss and Backpropagate\n",
        "\n",
        "\n",
        "\n",
        "Next, we define our loss function. We use softmax cross-entropy as our loss\n",
        "function. Tensorflow\n",
        "provides tf.nn.softmax_cross_entropy_with_logits() function for computing the\n",
        "softmax cross entropy loss. It takes the two parameters as inputs logits and labels.\n",
        "\n",
        "* logits implies the logits predicted by our network. That is, y_hat\n",
        "\n",
        "* labels imply the actual labels. That is, true labels y\n",
        "\n",
        "\n",
        "We take mean of the loss using tf.reduce_mean()"
      ]
    },
    {
      "cell_type": "code",
      "execution_count": 11,
      "metadata": {
        "id": "IdDtbt2QgMN9"
      },
      "outputs": [],
      "source": [
        "with tf.name_scope('Loss'):\n",
        "        loss = tf.reduce_mean(tf.nn.softmax_cross_entropy_with_logits(logits=y_hat,labels=Y))"
      ]
    },
    {
      "cell_type": "markdown",
      "metadata": {
        "id": "O3-O61DJgMN-"
      },
      "source": [
        "Now, we need to minimize the loss using backpropagation. Don't worry! We don't have to\n",
        "calculate derivatives of all the weights manually. Instead, we can use tensorflow's\n",
        "optimizer. In this section, we use Adam optimizer. It is a variant of gradient descent\n",
        "optimization technique we learned in the previous chapter. In the next chapter, we will\n",
        "dive into detail and see how exactly all the Adam and several other optimizers work. For\n",
        "now, let's say we use Adam optimizer as our backpropagation algorithm,\n",
        "\n",
        "\n",
        "tf.train.AdamOptimizer() requires the learning rate as input. So we set 1e-4 as the learning rate and we minimize the loss with minimize() function. It computes the gradients and updates the parameters (weights and biases) of our network."
      ]
    },
    {
      "cell_type": "code",
      "execution_count": 12,
      "metadata": {
        "id": "kPaQG6_HgMN-"
      },
      "outputs": [],
      "source": [
        "optimizer = tf.train.AdamOptimizer(1e-4).minimize(loss)"
      ]
    },
    {
      "cell_type": "markdown",
      "metadata": {
        "id": "l7na_ADfgMN-"
      },
      "source": [
        "##  Compute Accuracy\n",
        "\n",
        "We calculate the accuracy of our model as follows.\n",
        "\n",
        "\n",
        "* y_hat denotes the predicted probability for each class by our model. Since we have 10 classes we will have 10 probabilities. If the probability is high at position 7, then it means that our network predicts the input image as digit 7 with high probability.  tf.argmax() returns the index of the largest value. Thus, tf.argmax(y_hat,1) gives the index where the probability is high. Thus, if the probability is high at index 7, then it returns 7\n",
        "<br>\n",
        "\n",
        "\n",
        "* Y denotes the actual labels and it is the one hot encoded values. That is, it consists of zeros everywhere except at the position of the actual image where it consists of 1. For instance, if the input image is 7, then Y has 0 at all indices except at index 7 where it has 1. Thus, tf.argmax(Y,1) returns 7 because that is where we have high value i.e 1.\n",
        "\n",
        "\n",
        "Thus, tf.armax(y_hat,1) gives the predicted digit and tf.argmax(Y,1) gives us the actual digit.\n",
        "\n",
        "tf.equal(x, y) takes x and y as inputs and returns the truth value of (x == y) element-wise. Thus, correct_pred = tf.equal(predicted_digit,actual_digit) consists of True where the actual and predicted digits are same and False where the actual and predicted digits are not the same. We convert the boolean values in correct_pred into float using tensorflow's cast operation. That is, tf.cast(correct_pred, tf.float32). After converting into float values, take the average using tf.treduce_mean().\n",
        "\n",
        "Thus, tf.reduce_mean(tf.cast(correct_pred, tf.float32)) gives us the average correct predictions."
      ]
    },
    {
      "cell_type": "code",
      "execution_count": 13,
      "metadata": {
        "id": "rhFQD28qgMN_"
      },
      "outputs": [],
      "source": [
        "with tf.name_scope('Accuracy'):\n",
        "\n",
        "    predicted_digit = tf.argmax(y_hat, 1)\n",
        "    actual_digit = tf.argmax(Y, 1)\n",
        "\n",
        "    correct_pred = tf.equal(predicted_digit,actual_digit)\n",
        "    accuracy = tf.reduce_mean(tf.cast(correct_pred, tf.float32))"
      ]
    },
    {
      "cell_type": "markdown",
      "metadata": {
        "id": "DN7mdZPggMN_"
      },
      "source": [
        "## Create Summary"
      ]
    },
    {
      "cell_type": "markdown",
      "metadata": {
        "id": "1VAyYLB1gMN_"
      },
      "source": [
        "We can also visualize how the loss and accuracy of our model change during several\n",
        "iterations in tensorboard. So, we use tf.summary() to get the summary of the variable.\n",
        "Since the loss and accuracy are scalar variables, we use tf.summary.scalar() to store the summary as shown below:"
      ]
    },
    {
      "cell_type": "code",
      "execution_count": 14,
      "metadata": {
        "id": "yc_jjU5ygMN_",
        "outputId": "7a735108-d6c9-4732-c434-e5263110c331"
      },
      "outputs": [
        {
          "data": {
            "text/plain": [
              "<tf.Tensor 'Loss_1:0' shape=() dtype=string>"
            ]
          },
          "execution_count": 14,
          "metadata": {},
          "output_type": "execute_result"
        }
      ],
      "source": [
        "tf.summary.scalar(\"Accuracy\", accuracy)\n",
        "\n",
        "tf.summary.scalar(\"Loss\", loss)"
      ]
    },
    {
      "cell_type": "markdown",
      "metadata": {
        "id": "FT9SZ03KgMN_"
      },
      "source": [
        "Next, we merge all the summaries we use in our graph using tf.summary.merge_all(). We merge all summaries because when we have many summaries running and storing them would become inefficient, so we merge all the summaries and run them once in our session instead of running multiple times."
      ]
    },
    {
      "cell_type": "code",
      "execution_count": 15,
      "metadata": {
        "id": "bf8jy2KvgMOA"
      },
      "outputs": [],
      "source": [
        "merge_summary = tf.summary.merge_all()"
      ]
    },
    {
      "cell_type": "markdown",
      "metadata": {
        "id": "3BAn8sOVgMOA"
      },
      "source": [
        "## Train the Model"
      ]
    },
    {
      "cell_type": "markdown",
      "metadata": {
        "id": "7RAiFKaUgMOA"
      },
      "source": [
        "Now it is time to train our model. As we learned, first we need to initialize all the variables:"
      ]
    },
    {
      "cell_type": "code",
      "execution_count": 16,
      "metadata": {
        "id": "7S5OxzHegMOA"
      },
      "outputs": [],
      "source": [
        "init = tf.global_variables_initializer()"
      ]
    },
    {
      "cell_type": "markdown",
      "metadata": {
        "id": "xxWaZEm7gMOA"
      },
      "source": [
        "Define the batch size and number of iterations:"
      ]
    },
    {
      "cell_type": "code",
      "execution_count": 17,
      "metadata": {
        "id": "oKXWE1iogMOA"
      },
      "outputs": [],
      "source": [
        "batch_size = 128\n",
        "num_iterations = 1000"
      ]
    },
    {
      "cell_type": "markdown",
      "metadata": {
        "id": "G8yiVVWUgMOB"
      },
      "source": [
        "Start the tensorflow session and perform training"
      ]
    },
    {
      "cell_type": "code",
      "execution_count": 18,
      "metadata": {
        "id": "g_dsZT7agMOB",
        "outputId": "b56d4646-dd7e-476d-e982-ce447f8da076"
      },
      "outputs": [
        {
          "name": "stdout",
          "output_type": "stream",
          "text": [
            "Iteration: 0, Loss: 2.306608200073242, Accuracy: 0.109375\n",
            "Iteration: 100, Loss: 1.7455507516860962, Accuracy: 0.8203125\n",
            "Iteration: 200, Loss: 1.6216092109680176, Accuracy: 0.8984375\n",
            "Iteration: 300, Loss: 1.6021339893341064, Accuracy: 0.90625\n",
            "Iteration: 400, Loss: 1.5874189138412476, Accuracy: 0.875\n",
            "Iteration: 500, Loss: 1.57175874710083, Accuracy: 0.90625\n",
            "Iteration: 600, Loss: 1.548953890800476, Accuracy: 0.9140625\n",
            "Iteration: 700, Loss: 1.5080722570419312, Accuracy: 0.96875\n",
            "Iteration: 800, Loss: 1.5401396751403809, Accuracy: 0.921875\n",
            "Iteration: 900, Loss: 1.5074795484542847, Accuracy: 0.953125\n"
          ]
        }
      ],
      "source": [
        "with tf.Session() as sess:\n",
        "\n",
        "    #run the initializer\n",
        "    sess.run(init)\n",
        "\n",
        "    #save the event files\n",
        "    summary_writer = tf.summary.FileWriter('./graphs', graph=tf.get_default_graph())\n",
        "\n",
        "    #train for some n number of iterations\n",
        "    for i in range(num_iterations):\n",
        "\n",
        "        #get batch of data according to batch size\n",
        "        batch_x, batch_y = mnist.train.next_batch(batch_size)\n",
        "\n",
        "        #train the network\n",
        "        sess.run(optimizer, feed_dict={\n",
        "            X: batch_x, Y: batch_y\n",
        "            })\n",
        "\n",
        "        #print loss and accuracy on every 100th iteration\n",
        "        if i % 100 == 0:\n",
        "\n",
        "            #compute loss, accuracy and summary\n",
        "            batch_loss, batch_accuracy,summary = sess.run(\n",
        "                [loss, accuracy, merge_summary], feed_dict={X: batch_x, Y: batch_y}\n",
        "                )\n",
        "\n",
        "            #store all the summaries\n",
        "            summary_writer.add_summary(summary, i)\n",
        "\n",
        "\n",
        "            print('Iteration: {}, Loss: {}, Accuracy: {}'.format(i,batch_loss,batch_accuracy))"
      ]
    },
    {
      "cell_type": "markdown",
      "metadata": {
        "id": "7DYv8RB7gMOS"
      },
      "source": [
        "As you may observe, the loss decreases and the accuracy increases over the training iterations. Now that we have learned how to build the neural network using tensorflow, in the next section we will see how can we visualize the computational graph of our model in tensorboard."
      ]
    }
  ],
  "metadata": {
    "colab": {
      "provenance": []
    },
    "kernelspec": {
      "display_name": "venv",
      "language": "python",
      "name": "python3"
    },
    "language_info": {
      "codemirror_mode": {
        "name": "ipython",
        "version": 3
      },
      "file_extension": ".py",
      "mimetype": "text/x-python",
      "name": "python",
      "nbconvert_exporter": "python",
      "pygments_lexer": "ipython3",
      "version": "3.7.9"
    }
  },
  "nbformat": 4,
  "nbformat_minor": 0
}
